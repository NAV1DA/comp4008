{
  "nbformat": 4,
  "nbformat_minor": 0,
  "metadata": {
    "colab": {
      "provenance": [],
      "include_colab_link": true
    },
    "kernelspec": {
      "name": "python3",
      "display_name": "Python 3"
    },
    "language_info": {
      "name": "python"
    }
  },
  "cells": [
    {
      "cell_type": "markdown",
      "metadata": {
        "id": "view-in-github",
        "colab_type": "text"
      },
      "source": [
        "<a href=\"https://colab.research.google.com/github/NAV1DA/comp4008/blob/main/COMP4008_exercise_sheet_1.ipynb\" target=\"_parent\"><img src=\"https://colab.research.google.com/assets/colab-badge.svg\" alt=\"Open In Colab\"/></a>"
      ]
    },
    {
      "cell_type": "markdown",
      "source": [
        "**Lab 1 Part 1 (assessed): Preliminary Exercises on Lists and Variables**\n",
        "\n",
        "Here are some introductory exercises on lists and variables. This is the **assessed** part of the sheet. Once you have completed it, you should show your solutions to one of the teachers in the class, either on Wednesday (4th) or Friday (6th).\n",
        "\n",
        "To complete each task, you should fill in the code block that begin with a # symbol, replacing the text that is there with your code. Once you have completed the code, either click the \"play\" symbol to the left of the block, or press shift-return on your keyboard. If there is output from that piece of code, it will then display in a new block underneath the code.\n",
        "\n",
        "The tasks use similar ideas to those demonstrated in the lecture on Monday, so you should have a look at that for ideas and inspiration."
      ],
      "metadata": {
        "id": "8DiBzdxqn0Sz"
      }
    },
    {
      "cell_type": "markdown",
      "source": [
        "The following block creates a list of three names"
      ],
      "metadata": {
        "id": "YzOdyWc1n2jE"
      }
    },
    {
      "cell_type": "code",
      "execution_count": null,
      "metadata": {
        "id": "YnzsZIc1nJMn"
      },
      "outputs": [],
      "source": [
        "listOfNames = [\"Kermit the Frog\", \"Fozzie Bear\", \"Beaker\", \"Animal\"]"
      ]
    },
    {
      "cell_type": "markdown",
      "source": [
        "In the next block, write two lines of code, to append the name \"Miss Piggy\" to the list, then to display the list"
      ],
      "metadata": {
        "id": "Me2g1h5eoJAt"
      }
    },
    {
      "cell_type": "code",
      "source": [
        "listOfNames.append(\"Miss Piggy\")\n",
        "listOfNames"
      ],
      "metadata": {
        "id": "IqnyQ68woS1U",
        "outputId": "9c2322da-2035-4de4-a7cc-d3d8f65c1c4e",
        "colab": {
          "base_uri": "https://localhost:8080/"
        }
      },
      "execution_count": null,
      "outputs": [
        {
          "output_type": "execute_result",
          "data": {
            "text/plain": [
              "['Kermit the Frog', 'Fozzie Bear', 'Beaker', 'Animal', 'Miss Piggy']"
            ]
          },
          "metadata": {},
          "execution_count": 3
        }
      ]
    },
    {
      "cell_type": "markdown",
      "source": [
        "The next block contains a definition, *addStudent*, of a function that takes the name of a list, a piece of text containing the student's name, and a number that is their mark in their Maths module, and adds a new item to the list containing those three pieces of information. You do not have to do anything to the code in the next block."
      ],
      "metadata": {
        "id": "N3UxbZphqfZ7"
      }
    },
    {
      "cell_type": "code",
      "source": [
        "def addStudent(listOfStudents, studentName, maths):\n",
        "  listOfStudents.append([studentName,maths])"
      ],
      "metadata": {
        "id": "UVKVktjPqeMD"
      },
      "execution_count": null,
      "outputs": []
    },
    {
      "cell_type": "markdown",
      "source": [
        "In the next block, make a copy of *addStudent* from above and modify it so that in addition to the student's name and maths mark, it also records the student's hall of residence (a string of text), and numbers that represent the student's marks in English and in Programming."
      ],
      "metadata": {
        "id": "gz2Hora_vY_2"
      }
    },
    {
      "cell_type": "code",
      "source": [
        "def addStudent(listOfStudents, studentName, residence, maths, english, programming):\n",
        "  listOfStudents.append([studentName, residence, maths, english, programming])"
      ],
      "metadata": {
        "id": "JqorqcLwqeJk"
      },
      "execution_count": null,
      "outputs": []
    },
    {
      "cell_type": "markdown",
      "source": [
        "In the next block, write five lines of code that (1) creates an empty list called *studentRecords* and (2) uses the newly defined *addStudent* function to add the following students to *studentRecords*.\n",
        "\n",
        "| Name              | Residence          | Maths | English | Programming |\n",
        "|-------------------|--------------------|-------|---------|-------------|\n",
        "| Kermit the Frog   | Sherwood Hall      | 65    | 78      | 52          |\n",
        "| Fozzie Bear       | Newark Hall        | 48    | 45      | 42          |\n",
        "| Animal            | Sherwood Hall      | 35    | 68      | 48          |\n",
        "| Miss Piggy        | Melton Hall        | 78    | 75      | 85          |"
      ],
      "metadata": {
        "id": "dtZQVLwvv1sK"
      }
    },
    {
      "cell_type": "code",
      "source": [
        "studentRecords = []\n",
        "addStudent(studentRecords, \"Kermit the Frog\", \"Sherwood Hall\", 65, 78, 52)\n",
        "addStudent(studentRecords, \"Fozzie Bear\", \"Newark Hall\", 48, 45, 42)\n",
        "addStudent(studentRecords, \"Animal\", \"Sherwood Hall\", 35, 68, 48)\n",
        "addStudent(studentRecords, \"Miss Piggy\", \"Melton Hall\", 78, 75, 85)"
      ],
      "metadata": {
        "id": "LSWz9IKNqeG8"
      },
      "execution_count": null,
      "outputs": []
    },
    {
      "cell_type": "markdown",
      "source": [
        "In the next block, write a line of code that lists just the students who have a mark of 50 or over in Maths"
      ],
      "metadata": {
        "id": "N_GnyJ04xgSJ"
      }
    },
    {
      "cell_type": "code",
      "source": [
        "[p for p in studentRecords if p[2]>50]"
      ],
      "metadata": {
        "id": "omQnILlhqeEd",
        "outputId": "42534b50-0901-43f7-e939-5e17536922a7",
        "colab": {
          "base_uri": "https://localhost:8080/"
        }
      },
      "execution_count": null,
      "outputs": [
        {
          "output_type": "execute_result",
          "data": {
            "text/plain": [
              "[['Kermit the Frog', 'Sherwood Hall', 65, 78, 52],\n",
              " ['Miss Piggy', 'Melton Hall', 78, 75, 85]]"
            ]
          },
          "metadata": {},
          "execution_count": 8
        }
      ]
    },
    {
      "cell_type": "markdown",
      "source": [
        "In the next block, write a line of code that lists all the students who have a mark under 50 in all of Maths, English or Programming."
      ],
      "metadata": {
        "id": "EIfm8_vryfkg"
      }
    },
    {
      "cell_type": "code",
      "source": [
        "[p for p in studentRecords if p[2] <50 and p[3] < 50 and p[4] <50]"
      ],
      "metadata": {
        "id": "BufkinZzqeB_",
        "outputId": "b30bbc5d-c852-450a-8a04-98107d76b93c",
        "colab": {
          "base_uri": "https://localhost:8080/"
        }
      },
      "execution_count": null,
      "outputs": [
        {
          "output_type": "execute_result",
          "data": {
            "text/plain": [
              "[['Fozzie Bear', 'Newark Hall', 48, 45, 42]]"
            ]
          },
          "metadata": {},
          "execution_count": 9
        }
      ]
    },
    {
      "cell_type": "markdown",
      "source": [
        "**This is the end of the assessed part of the worksheet.** Show this to one of the class teachers who will discuss it with you and, if you have completed it successfully, give you your marks. If you are not successful, try again and show it again later in the class or in a future class.\n"
      ],
      "metadata": {
        "id": "qx5qvokSz0_3"
      }
    },
    {
      "cell_type": "markdown",
      "source": [
        "**Lab 1 Part 2 (unassessed): Additional Tasks**\n",
        "\n",
        "If you have completed the above tasks, here are some additional tasks for you to do, in order to extend your knowledge and practice more.\n"
      ],
      "metadata": {
        "id": "7Laks9Yr2Rgd"
      }
    },
    {
      "cell_type": "markdown",
      "source": [
        "In the next block, write a line of code that lists all the students who have a mark under 50 in one or more of Maths, English and Programming. You will need to use the word *or* where you used *and* in the previous block."
      ],
      "metadata": {
        "id": "rU8mdc-6zRw7"
      }
    },
    {
      "cell_type": "code",
      "source": [
        "[p for p in studentRecords if p[2] <50 or p[3]< 50 or p[4]< 50]"
      ],
      "metadata": {
        "id": "StrvSFwQqd_A",
        "outputId": "8dcf0a38-0c36-44cd-cefd-49a25f0b1186",
        "colab": {
          "base_uri": "https://localhost:8080/"
        }
      },
      "execution_count": null,
      "outputs": [
        {
          "output_type": "execute_result",
          "data": {
            "text/plain": [
              "[['Fozzie Bear', 'Newark Hall', 48, 45, 42],\n",
              " ['Animal', 'Sherwood Hall', 35, 68, 48]]"
            ]
          },
          "metadata": {},
          "execution_count": 10
        }
      ]
    },
    {
      "cell_type": "markdown",
      "source": [
        "In the next block, write a new version of *addStudent* that checks (1) if any of the marks are below 0 or over 100, and (2) that the residence is one of \"Sherwood Hall\", \"Newark Hall\", or \"Melton Hall\". If any of these conditions are not satisfied, print an error message and don't add the student to the list."
      ],
      "metadata": {
        "id": "8Lq0-vcDzotZ"
      }
    },
    {
      "cell_type": "code",
      "source": [
        "def addStudent(listOfStudents, studentName, residence, maths, english, programming):\n",
        "  if (maths < 0 or maths > 100) or (english < 0 or english > 100) or (programming < 0 or programming > 100) or (residence != \"Sherwood Hall\" or residence != \"Newark Hall\" or residence != \"Melton Hall\"):\n",
        "    print(\"Student has invalid values, please try again.\")\n",
        "  else:\n",
        "    listOfStudents.append([studentName, residence, maths, english, programming])"
      ],
      "metadata": {
        "id": "3CFcrkJ7qd6m"
      },
      "execution_count": null,
      "outputs": []
    },
    {
      "cell_type": "markdown",
      "source": [
        "[to add - student average marks, testing the above"
      ],
      "metadata": {
        "id": "uTJ3e3To4cjR"
      }
    }
  ]
}